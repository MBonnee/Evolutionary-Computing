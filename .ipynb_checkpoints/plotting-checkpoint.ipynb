{
 "cells": [
  {
   "cell_type": "code",
   "execution_count": 130,
   "metadata": {},
   "outputs": [
    {
     "name": "stdout",
     "output_type": "stream",
     "text": [
      "5\n",
      "Score: 9.993670274081763\n",
      "Runtime: 162ms\n"
     ]
    },
    {
     "ename": "ValueError",
     "evalue": "could not convert string to float: '162ms'",
     "output_type": "error",
     "traceback": [
      "\u001b[0;31m---------------------------------------------------------------------------\u001b[0m",
      "\u001b[0;31mValueError\u001b[0m                                Traceback (most recent call last)",
      "\u001b[0;32m<ipython-input-130-2025c06e7c0c>\u001b[0m in \u001b[0;36m<module>\u001b[0;34m()\u001b[0m\n\u001b[1;32m     39\u001b[0m \u001b[0;34m\u001b[0m\u001b[0m\n\u001b[1;32m     40\u001b[0m             \u001b[0;32mfor\u001b[0m \u001b[0mi\u001b[0m \u001b[0;32min\u001b[0m \u001b[0mrange\u001b[0m\u001b[0;34m(\u001b[0m\u001b[0mnum_isl\u001b[0m\u001b[0;34m)\u001b[0m\u001b[0;34m:\u001b[0m\u001b[0;34m\u001b[0m\u001b[0m\n\u001b[0;32m---> 41\u001b[0;31m                 \u001b[0mdict_islands\u001b[0m\u001b[0;34m[\u001b[0m\u001b[0;34m'avg_'\u001b[0m\u001b[0;34m+\u001b[0m\u001b[0mstr\u001b[0m\u001b[0;34m(\u001b[0m\u001b[0mi\u001b[0m\u001b[0;34m+\u001b[0m\u001b[0;36m1\u001b[0m\u001b[0;34m)\u001b[0m\u001b[0;34m]\u001b[0m \u001b[0;34m=\u001b[0m \u001b[0mfloat\u001b[0m\u001b[0;34m(\u001b[0m\u001b[0mgetVal\u001b[0m\u001b[0;34m(\u001b[0m\u001b[0mcontent\u001b[0m\u001b[0;34m[\u001b[0m\u001b[0mindex\u001b[0m\u001b[0;34m+\u001b[0m\u001b[0mnum_isl\u001b[0m\u001b[0;34m+\u001b[0m\u001b[0moffset\u001b[0m\u001b[0;34m]\u001b[0m\u001b[0;34m)\u001b[0m\u001b[0;34m)\u001b[0m\u001b[0;34m\u001b[0m\u001b[0m\n\u001b[0m\u001b[1;32m     42\u001b[0m                 \u001b[0;31m# dict_islands['fit_'+str(i+1)] = float(getVal(content[index+num_isl+2+offset]))\u001b[0m\u001b[0;34m\u001b[0m\u001b[0;34m\u001b[0m\u001b[0m\n\u001b[1;32m     43\u001b[0m                 \u001b[0;31m# we do 2 measurements per island\u001b[0m\u001b[0;34m\u001b[0m\u001b[0;34m\u001b[0m\u001b[0m\n",
      "\u001b[0;31mValueError\u001b[0m: could not convert string to float: '162ms'"
     ]
    }
   ],
   "source": [
    "import pandas as pd\n",
    "import matplotlib.pyplot as plt\n",
    "import numpy as np\n",
    "\n",
    "evals = []\n",
    "\n",
    "def getVal(entry): \n",
    "    return entry.split(\": \")[1]\n",
    "\n",
    "def diversity(values, num_isl):\n",
    "    values = values[1:-1].replace(\" \", \"\") # remove {}\n",
    "    values = values.split(',')\n",
    "    value_dict = {int(value.split('=')[0]): int(value.split('=')[1]) for value in values}\n",
    "    \n",
    "    for i in range(num_isl):\n",
    "        if((i+1) not in value_dict.keys()):\n",
    "            value_dict[(i+1)] = 0\n",
    "    \n",
    "    # print (value_dict)\n",
    "    return value_dict\n",
    "\n",
    "# global params pop_size, \n",
    "num_isl = 0\n",
    "with open('output_bent_bench.txt') as f:\n",
    "    content = f.readlines()\n",
    "    content = [x.strip() for x in content];\n",
    "    num_isl = int(content[0].split(\": \")[1])\n",
    "    print (num_isl)\n",
    "    print (content[-2])\n",
    "    print (content[-1])    \n",
    "    for index, value in enumerate(content):\n",
    "        if (\"EVAL:\" in value):\n",
    "            dict_islands = {}\n",
    "            dict_islands['eval'] = int(value.split(\": \")[1])\n",
    "            offset=0\n",
    "            for i in range(num_isl):\n",
    "                dict_islands['div_'+str(i+1)] = diversity(getVal(content[index+1+i]),num_isl)\n",
    "\n",
    "            for i in range(num_isl):\n",
    "                dict_islands['avg_'+str(i+1)] = float(getVal(content[index+num_isl+1+offset]))\n",
    "                dict_islands['fit_'+str(i+1)] = float(getVal(content[index+num_isl+2+offset]))\n",
    "                # we do 2 measurements per island\n",
    "                offset+=2\n",
    "            evals.append(dict_islands)\n",
    "\n",
    "\n",
    "df = pd.DataFrame(evals)\n",
    "plt.figure(figsize=(20,10))\n",
    "\n",
    "df.plot(x='eval', y=['avg_'+str(i+1) for i in range(num_isl)], figsize=(10,10))\n",
    "plt.xlabel('Generation')\n",
    "plt.ylabel('Average island fitness')\n",
    "plt.xlim([20, 70])\n",
    "df.plot(x='eval', y=['fit_'+str(i+1) for i in range(num_isl)], figsize=(10,10))\n",
    "plt.xlabel('Generation')\n",
    "plt.ylabel('Fittest individual')\n",
    "plt.xlim([20, 70])\n",
    "plt.show()\n",
    "\n",
    "\n",
    "# color mapping for plots below\n",
    "colors = {0:'c', 1:'r',2:'g',3:'y',4:'m', 5:'c', 6: 'b', 7:'k', 8:'#F0F0F0', 9:'#888888'}\n",
    "def swap_color(dct, index):\n",
    "    lst = []\n",
    "    for i in dct.keys():\n",
    "        if (i == index):\n",
    "            lst.insert(0, colors[i])\n",
    "        else:\n",
    "            lst.append(colors[i])\n",
    "            \n",
    "    return lst \n",
    "\n",
    "\n",
    "# so div_1 is the diversity on island 1\n",
    "# blue shows how many individuals originate from island 1, orange from 2\n",
    "for i in range(num_isl):\n",
    "    df_div = pd.DataFrame.from_dict(dict(df['div_'+str(i+1)]), orient='index')\n",
    "    df_div.plot(kind=\"bar\", stacked=True, color=swap_color(colors,i), width=1.0)\n",
    "    plt.legend(bbox_to_anchor=(0., 1.02, 1., .102), loc=3,\n",
    "       ncol=num_isl, mode=\"expand\", borderaxespad=0.)\n",
    "    plt.xticks([])\n",
    "    plt.xlabel('Migration rounds')\n",
    "    plt.ylabel('Population size')\n",
    "\n",
    "plt.show()\n",
    "\n"
   ]
  },
  {
   "cell_type": "code",
   "execution_count": 73,
   "metadata": {},
   "outputs": [
    {
     "name": "stderr",
     "output_type": "stream",
     "text": [
      "//anaconda/envs/python3/lib/python3.6/site-packages/ipykernel/__main__.py:29: DeprecationWarning: 'U' mode is deprecated\n"
     ]
    },
    {
     "data": {
      "image/png": "[encoded data removed]",
      "text/plain": [
       "<matplotlib.figure.Figure at 0x11cff1358>"
      ]
     },
     "metadata": {},
     "output_type": "display_data"
    },
    {
     "name": "stdout",
     "output_type": "stream",
     "text": [
      "[91.0, 91.0, 91.0, 91.0, 91.0, 91.0]\n"
     ]
    },
    {
     "data": {
      "image/png": "[encoded data removed]",
      "text/plain": [
       "<matplotlib.figure.Figure at 0x15b5a1048>"
      ]
     },
     "metadata": {},
     "output_type": "display_data"
    }
   ],
   "source": [
    "import os\n",
    "path = './txt/'\n",
    "import re\n",
    "\n",
    "benchmark_score = 0\n",
    "ladder_score = 0\n",
    "\n",
    "benchmark_run = 0\n",
    "ladder_run = 0\n",
    "\n",
    "# these are performance scores ladder / baseline\n",
    "# GRID SEARCH MIG POP => average fitness becomes \n",
    "# THE < MIG POP THE > IMPORTANCE OF MIGRATION\n",
    "\n",
    "prefix = 'x_'\n",
    "\n",
    "# runtime, performance\n",
    "mig_pop_dict = {}\n",
    "\n",
    "counter = 0 # for averaging\n",
    "for filename in os.listdir(path):\n",
    "    \n",
    "    if (filename.split('_')[1] == 'Store'):\n",
    "        continue\n",
    "    \n",
    "    mig_pop = int(filename.split('_')[1])\n",
    "    \n",
    "    if filename.startswith(prefix):\n",
    "        with open(path+filename, 'rU') as f:\n",
    "            t = f.read()\n",
    "            score = re.search('([0-9].[0-9]*)', t) \n",
    "            runtime = re.search('([0-9]?.?[0-9]*)ms', t)\n",
    "            runtime = float(runtime.group(0)[:-2])      \n",
    "            score = float(score.group(0))\n",
    "            \n",
    "            if (mig_pop not in mig_pop_dict.keys()):\n",
    "                mig_pop_dict[mig_pop] = {'b_perf': 0, 'b_run':0, 'l_perf': 0, 'l_run': 0, 'd_perf':0, 'd_run':0}\n",
    "            \n",
    "            if ('benchmark' in filename):\n",
    "                mig_pop_dict[mig_pop]['b_perf'] = float(mig_pop_dict[mig_pop]['b_perf']) + score\n",
    "                mig_pop_dict[mig_pop]['b_run'] = float(mig_pop_dict[mig_pop]['b_run']) + runtime\n",
    "            elif('ladder' in filename):\n",
    "                mig_pop_dict[mig_pop]['l_perf'] = float(mig_pop_dict[mig_pop]['l_perf']) + score\n",
    "                mig_pop_dict[mig_pop]['l_run'] = float(mig_pop_dict[mig_pop]['l_run']) + runtime\n",
    "            elif('distr' in filename):\n",
    "                mig_pop_dict[mig_pop]['d_perf'] = float(mig_pop_dict[mig_pop]['d_perf']) + score\n",
    "                mig_pop_dict[mig_pop]['d_run'] = float(mig_pop_dict[mig_pop]['d_run']) + runtime\n",
    "    \n",
    "keys = list(mig_pop_dict.keys())\n",
    "keys = [int(x) for x in keys]\n",
    "keys = sorted(keys, reverse=False)\n",
    "\n",
    "l_perfs = [mig_pop_dict[key]['l_perf']+1 for key in keys]\n",
    "b_perfs = [mig_pop_dict[key]['b_perf']+1 for key in keys]\n",
    "d_perfs = [mig_pop_dict[key]['d_perf']+1 for key in keys]\n",
    "\n",
    "l_runs = [mig_pop_dict[key]['l_run'] for key in keys]\n",
    "b_runs = [mig_pop_dict[key]['b_run'] for key in keys]\n",
    "d_runs = [mig_pop_dict[key]['d_run'] for key in keys]\n",
    "\n",
    "plt.plot(keys, l_perfs, label='ladder')\n",
    "plt.plot(keys, d_perfs, label='distributed')\n",
    "plt.plot(keys, b_perfs, label='benchmark')\n",
    "plt.legend()\n",
    "plt.show()\n",
    "\n",
    "print (d_perfs)\n",
    "\n",
    "plt.plot(keys, l_runs, label='ladder')\n",
    "plt.plot(keys, d_runs, label='distributed')\n",
    "plt.plot(keys, b_runs, label='benchmark')\n",
    "plt.legend()\n",
    "plt.show()\n",
    "\n"
   ]
  },
  {
   "cell_type": "markdown",
   "metadata": {
    "collapsed": true
   },
   "source": [
    "# MONTE CARLO"
   ]
  },
  {
   "cell_type": "code",
   "execution_count": 111,
   "metadata": {},
   "outputs": [
    {
     "name": "stdout",
     "output_type": "stream",
     "text": [
      "8.606897634872318\n",
      "8.534058692683066\n",
      "8.546142714388166\n",
      "508.8910891089109\n",
      "508.1980198019802\n",
      "514.5544554455446\n",
      "8220.270627062706\n",
      "8184.60396039604\n",
      "8289.227722772277\n"
     ]
    },
    {
     "name": "stderr",
     "output_type": "stream",
     "text": [
      "//anaconda/envs/python3/lib/python3.6/site-packages/ipykernel/__main__.py:21: DeprecationWarning: 'U' mode is deprecated\n"
     ]
    }
   ],
   "source": [
    "counter = 0 # for averaging\n",
    "path = './monte/'\n",
    "\n",
    "\n",
    "schaf_bench_score=[]\n",
    "schaf_bench_run=[]\n",
    "schaf_bench_eval=[]\n",
    "\n",
    "schaf_lad_score=[]\n",
    "schaf_lad_run=[]\n",
    "schaf_lad_eval=[]\n",
    "\n",
    "schaf_distr_score=[]\n",
    "schaf_distr_run=[]\n",
    "schaf_distr_eval=[]\n",
    "\n",
    "\n",
    "for filename in os.listdir(path):\n",
    "    if (filename.split('_')[1] == 'Store'):\n",
    "        continue\n",
    "    with open(path+filename, 'rU') as f:\n",
    "        t = f.read()\n",
    "        evals = re.search('EVAL:([0-9]*)', t)\n",
    "        if (evals is None):\n",
    "            if ('schaf' in filename):\n",
    "                evals = 10000\n",
    "            else:\n",
    "                evals = 150\n",
    "        else:\n",
    "            evals = int(evals.group(1))\n",
    "        \n",
    "        score = re.search('Score: ([0-9]?(.[0-9]*))', t) \n",
    "        runtime = re.search('([0-9]?.?[0-9]*)ms', t)\n",
    "        if (runtime is None):\n",
    "            runtime = 500\n",
    "        else:\n",
    "            runtime = float(runtime.group(0)[:-2])\n",
    "        \n",
    "        score = float(score.group(1))\n",
    "        \n",
    "        if ('output_schaf' == filename.split('_')[0]+'_'+filename.split('_')[1]):\n",
    "            schaf_distr_score.append(score)\n",
    "            schaf_distr_run.append(runtime)\n",
    "            schaf_distr_eval.append(evals)\n",
    "        if ('output_schaf_ladder' in filename):\n",
    "            schaf_lad_score.append(score)            \n",
    "            schaf_lad_run.append(runtime)\n",
    "            schaf_lad_eval.append(evals)\n",
    "        if ('output_schaf_bench' in filename):\n",
    "            schaf_bench_score.append(score)            \n",
    "            schaf_bench_run.append(runtime)\n",
    "            schaf_bench_eval.append(evals)\n",
    "\n",
    "def avg(lst):\n",
    "    return sum(lst)/len(lst)\n",
    "\n",
    "print(avg(schaf_distr_score))\n",
    "print(avg(schaf_lad_score))\n",
    "print(avg(schaf_bench_score))\n",
    "\n",
    "print(avg(schaf_distr_run))\n",
    "print(avg(schaf_lad_run))\n",
    "print(avg(schaf_bench_run))\n",
    "\n",
    "print(avg(schaf_distr_eval))\n",
    "print(avg(schaf_lad_eval))\n",
    "print(avg(schaf_bench_eval))\n",
    "\n",
    "\n",
    "        "
   ]
  },
  {
   "cell_type": "code",
   "execution_count": null,
   "metadata": {
    "collapsed": true
   },
   "outputs": [],
   "source": []
  }
 ],
 "metadata": {
  "anaconda-cloud": {},
  "kernelspec": {
   "display_name": "Python [conda env:python3]",
   "language": "python",
   "name": "conda-env-python3-py"
  },
  "language_info": {
   "codemirror_mode": {
    "name": "ipython",
    "version": 3
   },
   "file_extension": ".py",
   "mimetype": "text/x-python",
   "name": "python",
   "nbconvert_exporter": "python",
   "pygments_lexer": "ipython3",
   "version": "3.6.2"
  }
 },
 "nbformat": 4,
 "nbformat_minor": 2
}
