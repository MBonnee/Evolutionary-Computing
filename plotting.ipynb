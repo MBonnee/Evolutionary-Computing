{
 "cells": [
  {
   "cell_type": "code",
   "execution_count": null,
   "metadata": {
    "collapsed": true
   },
   "outputs": [],
   "source": [
    "import pandas as pd\n",
    "import matplotlib.pyplot as plt\n",
    "import numpy as np\n",
    "\n",
    "evals = []\n",
    "\n",
    "def getVal(entry): \n",
    "    return entry.split(\": \")[1]\n",
    "\n",
    "def diversity(values, num_isl):\n",
    "    values = values[1:-1].replace(\" \", \"\") # remove {}\n",
    "    values = values.split(',')\n",
    "    value_dict = {int(value.split('=')[0]): int(value.split('=')[1]) for value in values}\n",
    "    \n",
    "    for i in range(num_isl):\n",
    "        if((i+1) not in value_dict.keys()):\n",
    "            value_dict[(i+1)] = 0\n",
    "    \n",
    "    # print (value_dict)\n",
    "    return value_dict\n",
    "\n",
    "# global params pop_size, \n",
    "config_params = 4\n",
    "num_isl = 0\n",
    "with open('output_.txt') as f:\n",
    "    content = f.readlines()\n",
    "    content = [x.strip() for x in content];\n",
    "    num_isl = int(content[1].split(\": \")[1])\n",
    "    print (content[-2])\n",
    "    print (content[-1])    \n",
    "    for index, value in enumerate(content):\n",
    "        if (\"EVAL:\" in value):\n",
    "            dict_islands = {}\n",
    "            dict_islands['eval'] = int(value.split(\": \")[1])\n",
    "            offset=0\n",
    "            for i in range(num_isl):\n",
    "                dict_islands['div_'+str(i+1)] = diversity(getVal(content[index+1+i]),num_isl)\n",
    "\n",
    "            for i in range(num_isl):\n",
    "                dict_islands['avg_'+str(i+1)] = float(getVal(content[index+num_isl+1+offset]))\n",
    "                dict_islands['fit_'+str(i+1)] = float(getVal(content[index+num_isl+2+offset]))\n",
    "                # we do 2 measurements per island\n",
    "                offset+=2\n",
    "            evals.append(dict_islands)\n",
    "            \n",
    "df = pd.DataFrame(evals)\n",
    "\n",
    "df.plot(x='eval', y=['avg_'+str(i+1) for i in range(num_isl)])\n",
    "df.plot(x='eval', y=['fit_'+str(i+1) for i in range(num_isl)])\n",
    "\n",
    "plt.show()\n",
    "\n",
    "\n",
    "# color mapping for plots below\n",
    "colors = {0:'c', 1:'r',2:'g',3:'y',4:'m'}\n",
    "def swap_color(dct, index):\n",
    "    lst = []\n",
    "    for i in dct.keys():\n",
    "        if (i == index):\n",
    "            lst.insert(0, colors[i])\n",
    "        else:\n",
    "            lst.append(colors[i])\n",
    "            \n",
    "    return lst \n",
    "\n",
    "# so div_1 is the diversity on island 1\n",
    "# blue shows how many individuals originate from island 1, orange from 2\n",
    "for i in range(num_isl):\n",
    "    df_div = pd.DataFrame.from_dict(dict(df['div_'+str(i+1)]), orient='index')\n",
    "    df_div.plot(kind=\"bar\", stacked=True, color=swap_color(colors,i), width=1.0)\n",
    "    plt.legend(bbox_to_anchor=(0., 1.02, 1., .102), loc=3,\n",
    "       ncol=num_isl, mode=\"expand\", borderaxespad=0.)\n",
    "    plt.xticks([])\n",
    "    plt.xlabel('Migration rounds')\n",
    "    plt.ylabel('Population size')\n",
    "\n",
    "plt.show()\n"
   ]
  },
  {
   "cell_type": "code",
   "execution_count": 33,
   "metadata": {},
   "outputs": [
    {
     "name": "stdout",
     "output_type": "stream",
     "text": [
      "benchmark:2.696153197134662\n",
      "ladder:3.0847077566895504\n"
     ]
    },
    {
     "name": "stderr",
     "output_type": "stream",
     "text": [
      "//anaconda/envs/python3/lib/python3.6/site-packages/ipykernel/__main__.py:13: DeprecationWarning: 'U' mode is deprecated\n"
     ]
    }
   ],
   "source": [
    "import os\n",
    "path = './txt/'\n",
    "import re\n",
    "\n",
    "benchmark = 0\n",
    "ladder = 0\n",
    "\n",
    "# these are performance scores ladder / baseline\n",
    "# GRID SEARCH MIG POP => average fitness becomes \n",
    "# THE < MIG POP THE > IMPORTANCE OF MIGRATION\n",
    "\n",
    "prefix = 'x_'\n",
    "counter = 0 # for averaging\n",
    "for filename in os.listdir(path):\n",
    "    if filename.startswith(prefix):\n",
    "        with open(path+filename, 'rU') as f:\n",
    "            t = f.read()\n",
    "            score = re.search('([0-9].[0-9]*)', t)            \n",
    "            score = float(score.group(0))\n",
    "            if (prefix+'benchmark' in filename):\n",
    "                benchmark+= score\n",
    "            else:\n",
    "                ladder += score\n",
    "                counter+=1;\n",
    "\n",
    "print ('benchmark:'+ str(benchmark/counter))\n",
    "print ('ladder:' + str(ladder/counter ))\n"
   ]
  },
  {
   "cell_type": "code",
   "execution_count": null,
   "metadata": {
    "collapsed": true
   },
   "outputs": [],
   "source": []
  }
 ],
 "metadata": {
  "anaconda-cloud": {},
  "kernelspec": {
   "display_name": "Python [conda env:python3]",
   "language": "python",
   "name": "conda-env-python3-py"
  },
  "language_info": {
   "codemirror_mode": {
    "name": "ipython",
    "version": 3
   },
   "file_extension": ".py",
   "mimetype": "text/x-python",
   "name": "python",
   "nbconvert_exporter": "python",
   "pygments_lexer": "ipython3",
   "version": "3.6.2"
  }
 },
 "nbformat": 4,
 "nbformat_minor": 2
}
